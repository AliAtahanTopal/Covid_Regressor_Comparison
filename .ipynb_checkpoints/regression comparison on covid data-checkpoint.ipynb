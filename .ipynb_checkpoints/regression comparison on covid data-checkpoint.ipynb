{
 "cells": [
  {
   "cell_type": "code",
   "execution_count": 1,
   "id": "9959683f-9b55-4030-9337-b939331f142d",
   "metadata": {},
   "outputs": [],
   "source": [
    "import pandas as pd\n",
    "import numpy as np\n",
    "import matplotlib.pyplot as plt \n",
    "from sklearn.metrics import r2_score\n",
    "from sklearn.model_selection import train_test_split"
   ]
  },
  {
   "cell_type": "code",
   "execution_count": 2,
   "id": "02b4f19c-8899-46de-bcd9-36802c1329f2",
   "metadata": {},
   "outputs": [],
   "source": [
    "def warn(*args, **kwargs):\n",
    "    pass\n",
    "import warnings\n",
    "warnings.warn = warn"
   ]
  },
  {
   "cell_type": "markdown",
   "id": "b6aecbf5-17ba-4ee2-b1de-03d7aebb319a",
   "metadata": {
    "tags": []
   },
   "source": [
    "# DataSet "
   ]
  },
  {
   "cell_type": "code",
   "execution_count": 3,
   "id": "633fb494-065a-4f2c-bf3b-96aceef5b918",
   "metadata": {},
   "outputs": [],
   "source": [
    "covid = pd.read_excel('Covid-19 15.01.2022.xlsx')"
   ]
  },
  {
   "cell_type": "code",
   "execution_count": 4,
   "id": "22f42019-5d68-4eb9-b35f-523aa7c79876",
   "metadata": {},
   "outputs": [
    {
     "data": {
      "text/html": [
       "<div>\n",
       "<style scoped>\n",
       "    .dataframe tbody tr th:only-of-type {\n",
       "        vertical-align: middle;\n",
       "    }\n",
       "\n",
       "    .dataframe tbody tr th {\n",
       "        vertical-align: top;\n",
       "    }\n",
       "\n",
       "    .dataframe thead th {\n",
       "        text-align: right;\n",
       "    }\n",
       "</style>\n",
       "<table border=\"1\" class=\"dataframe\">\n",
       "  <thead>\n",
       "    <tr style=\"text-align: right;\">\n",
       "      <th></th>\n",
       "      <th>Tarih</th>\n",
       "      <th>Toplam Test Sayısı</th>\n",
       "      <th>Toplam Vaka Sayısı</th>\n",
       "      <th>Toplam Vefat Sayısı</th>\n",
       "      <th>Hastalarda Zatürre Oranı (%)</th>\n",
       "      <th>Ağır Hasta Sayısı</th>\n",
       "      <th>Toplam İyileşen Hasta Sayısı</th>\n",
       "      <th>Bugünkü Vaka Sayısı</th>\n",
       "      <th>Bugünkü Hasta Sayısı</th>\n",
       "      <th>Bugünkü Test Sayısı</th>\n",
       "      <th>Bugünkü Vefat Sayısı</th>\n",
       "      <th>Bugünkü İyileşen Sayısı</th>\n",
       "    </tr>\n",
       "  </thead>\n",
       "  <tbody>\n",
       "    <tr>\n",
       "      <th>0</th>\n",
       "      <td>15 OCAK 2022</td>\n",
       "      <td>NaN</td>\n",
       "      <td>NaN</td>\n",
       "      <td>NaN</td>\n",
       "      <td>NaN</td>\n",
       "      <td>NaN</td>\n",
       "      <td>NaN</td>\n",
       "      <td>63967.0</td>\n",
       "      <td>NaN</td>\n",
       "      <td>384263.0</td>\n",
       "      <td>177.0</td>\n",
       "      <td>52016.0</td>\n",
       "    </tr>\n",
       "    <tr>\n",
       "      <th>1</th>\n",
       "      <td>14 OCAK 2022</td>\n",
       "      <td>NaN</td>\n",
       "      <td>NaN</td>\n",
       "      <td>NaN</td>\n",
       "      <td>NaN</td>\n",
       "      <td>NaN</td>\n",
       "      <td>NaN</td>\n",
       "      <td>67857.0</td>\n",
       "      <td>NaN</td>\n",
       "      <td>392438.0</td>\n",
       "      <td>167.0</td>\n",
       "      <td>56256.0</td>\n",
       "    </tr>\n",
       "    <tr>\n",
       "      <th>2</th>\n",
       "      <td>13 OCAK 2022</td>\n",
       "      <td>NaN</td>\n",
       "      <td>NaN</td>\n",
       "      <td>NaN</td>\n",
       "      <td>NaN</td>\n",
       "      <td>NaN</td>\n",
       "      <td>NaN</td>\n",
       "      <td>75564.0</td>\n",
       "      <td>NaN</td>\n",
       "      <td>410116.0</td>\n",
       "      <td>153.0</td>\n",
       "      <td>51675.0</td>\n",
       "    </tr>\n",
       "    <tr>\n",
       "      <th>3</th>\n",
       "      <td>12 OCAK 2022</td>\n",
       "      <td>NaN</td>\n",
       "      <td>NaN</td>\n",
       "      <td>NaN</td>\n",
       "      <td>NaN</td>\n",
       "      <td>NaN</td>\n",
       "      <td>NaN</td>\n",
       "      <td>77722.0</td>\n",
       "      <td>NaN</td>\n",
       "      <td>422028.0</td>\n",
       "      <td>145.0</td>\n",
       "      <td>42573.0</td>\n",
       "    </tr>\n",
       "    <tr>\n",
       "      <th>4</th>\n",
       "      <td>11 OCAK 2022</td>\n",
       "      <td>NaN</td>\n",
       "      <td>NaN</td>\n",
       "      <td>NaN</td>\n",
       "      <td>NaN</td>\n",
       "      <td>NaN</td>\n",
       "      <td>NaN</td>\n",
       "      <td>74266.0</td>\n",
       "      <td>NaN</td>\n",
       "      <td>430253.0</td>\n",
       "      <td>137.0</td>\n",
       "      <td>39226.0</td>\n",
       "    </tr>\n",
       "    <tr>\n",
       "      <th>...</th>\n",
       "      <td>...</td>\n",
       "      <td>...</td>\n",
       "      <td>...</td>\n",
       "      <td>...</td>\n",
       "      <td>...</td>\n",
       "      <td>...</td>\n",
       "      <td>...</td>\n",
       "      <td>...</td>\n",
       "      <td>...</td>\n",
       "      <td>...</td>\n",
       "      <td>...</td>\n",
       "      <td>...</td>\n",
       "    </tr>\n",
       "    <tr>\n",
       "      <th>671</th>\n",
       "      <td>15 MART 2020</td>\n",
       "      <td>NaN</td>\n",
       "      <td>18.0</td>\n",
       "      <td>NaN</td>\n",
       "      <td>NaN</td>\n",
       "      <td>NaN</td>\n",
       "      <td>NaN</td>\n",
       "      <td>NaN</td>\n",
       "      <td>NaN</td>\n",
       "      <td>NaN</td>\n",
       "      <td>NaN</td>\n",
       "      <td>NaN</td>\n",
       "    </tr>\n",
       "    <tr>\n",
       "      <th>672</th>\n",
       "      <td>14 MART 2020</td>\n",
       "      <td>NaN</td>\n",
       "      <td>6.0</td>\n",
       "      <td>NaN</td>\n",
       "      <td>NaN</td>\n",
       "      <td>NaN</td>\n",
       "      <td>NaN</td>\n",
       "      <td>NaN</td>\n",
       "      <td>NaN</td>\n",
       "      <td>NaN</td>\n",
       "      <td>NaN</td>\n",
       "      <td>NaN</td>\n",
       "    </tr>\n",
       "    <tr>\n",
       "      <th>673</th>\n",
       "      <td>13 MART 2020</td>\n",
       "      <td>NaN</td>\n",
       "      <td>5.0</td>\n",
       "      <td>NaN</td>\n",
       "      <td>NaN</td>\n",
       "      <td>NaN</td>\n",
       "      <td>NaN</td>\n",
       "      <td>NaN</td>\n",
       "      <td>NaN</td>\n",
       "      <td>NaN</td>\n",
       "      <td>NaN</td>\n",
       "      <td>NaN</td>\n",
       "    </tr>\n",
       "    <tr>\n",
       "      <th>674</th>\n",
       "      <td>12 MART 2020</td>\n",
       "      <td>NaN</td>\n",
       "      <td>1.0</td>\n",
       "      <td>NaN</td>\n",
       "      <td>NaN</td>\n",
       "      <td>NaN</td>\n",
       "      <td>NaN</td>\n",
       "      <td>NaN</td>\n",
       "      <td>NaN</td>\n",
       "      <td>NaN</td>\n",
       "      <td>NaN</td>\n",
       "      <td>NaN</td>\n",
       "    </tr>\n",
       "    <tr>\n",
       "      <th>675</th>\n",
       "      <td>11 MART 2020</td>\n",
       "      <td>NaN</td>\n",
       "      <td>1.0</td>\n",
       "      <td>NaN</td>\n",
       "      <td>NaN</td>\n",
       "      <td>NaN</td>\n",
       "      <td>NaN</td>\n",
       "      <td>NaN</td>\n",
       "      <td>NaN</td>\n",
       "      <td>NaN</td>\n",
       "      <td>NaN</td>\n",
       "      <td>NaN</td>\n",
       "    </tr>\n",
       "  </tbody>\n",
       "</table>\n",
       "<p>676 rows × 12 columns</p>\n",
       "</div>"
      ],
      "text/plain": [
       "            Tarih  Toplam Test Sayısı  Toplam Vaka Sayısı  \\\n",
       "0    15 OCAK 2022                 NaN                 NaN   \n",
       "1    14 OCAK 2022                 NaN                 NaN   \n",
       "2    13 OCAK 2022                 NaN                 NaN   \n",
       "3    12 OCAK 2022                 NaN                 NaN   \n",
       "4    11 OCAK 2022                 NaN                 NaN   \n",
       "..            ...                 ...                 ...   \n",
       "671  15 MART 2020                 NaN                18.0   \n",
       "672  14 MART 2020                 NaN                 6.0   \n",
       "673  13 MART 2020                 NaN                 5.0   \n",
       "674  12 MART 2020                 NaN                 1.0   \n",
       "675  11 MART 2020                 NaN                 1.0   \n",
       "\n",
       "     Toplam Vefat Sayısı Hastalarda Zatürre Oranı (%)  Ağır Hasta Sayısı  \\\n",
       "0                    NaN                          NaN                NaN   \n",
       "1                    NaN                          NaN                NaN   \n",
       "2                    NaN                          NaN                NaN   \n",
       "3                    NaN                          NaN                NaN   \n",
       "4                    NaN                          NaN                NaN   \n",
       "..                   ...                          ...                ...   \n",
       "671                  NaN                          NaN                NaN   \n",
       "672                  NaN                          NaN                NaN   \n",
       "673                  NaN                          NaN                NaN   \n",
       "674                  NaN                          NaN                NaN   \n",
       "675                  NaN                          NaN                NaN   \n",
       "\n",
       "     Toplam İyileşen Hasta Sayısı  Bugünkü Vaka Sayısı  Bugünkü Hasta Sayısı  \\\n",
       "0                             NaN              63967.0                   NaN   \n",
       "1                             NaN              67857.0                   NaN   \n",
       "2                             NaN              75564.0                   NaN   \n",
       "3                             NaN              77722.0                   NaN   \n",
       "4                             NaN              74266.0                   NaN   \n",
       "..                            ...                  ...                   ...   \n",
       "671                           NaN                  NaN                   NaN   \n",
       "672                           NaN                  NaN                   NaN   \n",
       "673                           NaN                  NaN                   NaN   \n",
       "674                           NaN                  NaN                   NaN   \n",
       "675                           NaN                  NaN                   NaN   \n",
       "\n",
       "     Bugünkü Test Sayısı  Bugünkü Vefat Sayısı  Bugünkü İyileşen Sayısı  \n",
       "0               384263.0                 177.0                  52016.0  \n",
       "1               392438.0                 167.0                  56256.0  \n",
       "2               410116.0                 153.0                  51675.0  \n",
       "3               422028.0                 145.0                  42573.0  \n",
       "4               430253.0                 137.0                  39226.0  \n",
       "..                   ...                   ...                      ...  \n",
       "671                  NaN                   NaN                      NaN  \n",
       "672                  NaN                   NaN                      NaN  \n",
       "673                  NaN                   NaN                      NaN  \n",
       "674                  NaN                   NaN                      NaN  \n",
       "675                  NaN                   NaN                      NaN  \n",
       "\n",
       "[676 rows x 12 columns]"
      ]
     },
     "execution_count": 4,
     "metadata": {},
     "output_type": "execute_result"
    }
   ],
   "source": [
    "covid"
   ]
  },
  {
   "cell_type": "code",
   "execution_count": 5,
   "id": "feb7957f-18bc-4ab8-bcd2-17c06429636e",
   "metadata": {},
   "outputs": [],
   "source": [
    "covid = covid.fillna(0)"
   ]
  },
  {
   "cell_type": "code",
   "execution_count": 6,
   "id": "c3714a42-1fab-42fb-a333-aeac19d5204e",
   "metadata": {},
   "outputs": [
    {
     "data": {
      "text/html": [
       "<div>\n",
       "<style scoped>\n",
       "    .dataframe tbody tr th:only-of-type {\n",
       "        vertical-align: middle;\n",
       "    }\n",
       "\n",
       "    .dataframe tbody tr th {\n",
       "        vertical-align: top;\n",
       "    }\n",
       "\n",
       "    .dataframe thead th {\n",
       "        text-align: right;\n",
       "    }\n",
       "</style>\n",
       "<table border=\"1\" class=\"dataframe\">\n",
       "  <thead>\n",
       "    <tr style=\"text-align: right;\">\n",
       "      <th></th>\n",
       "      <th>Tarih</th>\n",
       "      <th>Toplam Test Sayısı</th>\n",
       "      <th>Toplam Vaka Sayısı</th>\n",
       "      <th>Toplam Vefat Sayısı</th>\n",
       "      <th>Hastalarda Zatürre Oranı (%)</th>\n",
       "      <th>Ağır Hasta Sayısı</th>\n",
       "      <th>Toplam İyileşen Hasta Sayısı</th>\n",
       "      <th>Bugünkü Vaka Sayısı</th>\n",
       "      <th>Bugünkü Hasta Sayısı</th>\n",
       "      <th>Bugünkü Test Sayısı</th>\n",
       "      <th>Bugünkü Vefat Sayısı</th>\n",
       "      <th>Bugünkü İyileşen Sayısı</th>\n",
       "    </tr>\n",
       "  </thead>\n",
       "  <tbody>\n",
       "    <tr>\n",
       "      <th>401</th>\n",
       "      <td>10 ARALIK 2020</td>\n",
       "      <td>20500579.0</td>\n",
       "      <td>1748567.0</td>\n",
       "      <td>15751.0</td>\n",
       "      <td>3,1</td>\n",
       "      <td>5943.0</td>\n",
       "      <td>452593.0</td>\n",
       "      <td>30424.0</td>\n",
       "      <td>5918.0</td>\n",
       "      <td>206202.0</td>\n",
       "      <td>220.0</td>\n",
       "      <td>5232.0</td>\n",
       "    </tr>\n",
       "  </tbody>\n",
       "</table>\n",
       "</div>"
      ],
      "text/plain": [
       "              Tarih  Toplam Test Sayısı  Toplam Vaka Sayısı  \\\n",
       "401  10 ARALIK 2020          20500579.0           1748567.0   \n",
       "\n",
       "     Toplam Vefat Sayısı Hastalarda Zatürre Oranı (%)  Ağır Hasta Sayısı  \\\n",
       "401              15751.0                          3,1             5943.0   \n",
       "\n",
       "     Toplam İyileşen Hasta Sayısı  Bugünkü Vaka Sayısı  Bugünkü Hasta Sayısı  \\\n",
       "401                      452593.0              30424.0                5918.0   \n",
       "\n",
       "     Bugünkü Test Sayısı  Bugünkü Vefat Sayısı  Bugünkü İyileşen Sayısı  \n",
       "401             206202.0                 220.0                   5232.0  "
      ]
     },
     "execution_count": 6,
     "metadata": {},
     "output_type": "execute_result"
    }
   ],
   "source": [
    "covid[covid['Tarih'] == '10 ARALIK 2020']"
   ]
  },
  {
   "cell_type": "code",
   "execution_count": 7,
   "id": "dc91c8f8-e840-41d9-b2d1-b195ba2fd147",
   "metadata": {},
   "outputs": [],
   "source": [
    "covid_tr = covid[:402]"
   ]
  },
  {
   "cell_type": "code",
   "execution_count": 8,
   "id": "84483dcc-1121-41c3-b17f-cbeb3d7798d7",
   "metadata": {},
   "outputs": [
    {
     "data": {
      "text/html": [
       "<div>\n",
       "<style scoped>\n",
       "    .dataframe tbody tr th:only-of-type {\n",
       "        vertical-align: middle;\n",
       "    }\n",
       "\n",
       "    .dataframe tbody tr th {\n",
       "        vertical-align: top;\n",
       "    }\n",
       "\n",
       "    .dataframe thead th {\n",
       "        text-align: right;\n",
       "    }\n",
       "</style>\n",
       "<table border=\"1\" class=\"dataframe\">\n",
       "  <thead>\n",
       "    <tr style=\"text-align: right;\">\n",
       "      <th></th>\n",
       "      <th>Tarih</th>\n",
       "      <th>Toplam Test Sayısı</th>\n",
       "      <th>Toplam Vaka Sayısı</th>\n",
       "      <th>Toplam Vefat Sayısı</th>\n",
       "      <th>Hastalarda Zatürre Oranı (%)</th>\n",
       "      <th>Ağır Hasta Sayısı</th>\n",
       "      <th>Toplam İyileşen Hasta Sayısı</th>\n",
       "      <th>Bugünkü Vaka Sayısı</th>\n",
       "      <th>Bugünkü Hasta Sayısı</th>\n",
       "      <th>Bugünkü Test Sayısı</th>\n",
       "      <th>Bugünkü Vefat Sayısı</th>\n",
       "      <th>Bugünkü İyileşen Sayısı</th>\n",
       "    </tr>\n",
       "  </thead>\n",
       "  <tbody>\n",
       "    <tr>\n",
       "      <th>0</th>\n",
       "      <td>15 OCAK 2022</td>\n",
       "      <td>0.0</td>\n",
       "      <td>0.0</td>\n",
       "      <td>0.0</td>\n",
       "      <td>0</td>\n",
       "      <td>0.0</td>\n",
       "      <td>0.0</td>\n",
       "      <td>63967.0</td>\n",
       "      <td>0.0</td>\n",
       "      <td>384263.0</td>\n",
       "      <td>177.0</td>\n",
       "      <td>52016.0</td>\n",
       "    </tr>\n",
       "    <tr>\n",
       "      <th>1</th>\n",
       "      <td>14 OCAK 2022</td>\n",
       "      <td>0.0</td>\n",
       "      <td>0.0</td>\n",
       "      <td>0.0</td>\n",
       "      <td>0</td>\n",
       "      <td>0.0</td>\n",
       "      <td>0.0</td>\n",
       "      <td>67857.0</td>\n",
       "      <td>0.0</td>\n",
       "      <td>392438.0</td>\n",
       "      <td>167.0</td>\n",
       "      <td>56256.0</td>\n",
       "    </tr>\n",
       "    <tr>\n",
       "      <th>2</th>\n",
       "      <td>13 OCAK 2022</td>\n",
       "      <td>0.0</td>\n",
       "      <td>0.0</td>\n",
       "      <td>0.0</td>\n",
       "      <td>0</td>\n",
       "      <td>0.0</td>\n",
       "      <td>0.0</td>\n",
       "      <td>75564.0</td>\n",
       "      <td>0.0</td>\n",
       "      <td>410116.0</td>\n",
       "      <td>153.0</td>\n",
       "      <td>51675.0</td>\n",
       "    </tr>\n",
       "    <tr>\n",
       "      <th>3</th>\n",
       "      <td>12 OCAK 2022</td>\n",
       "      <td>0.0</td>\n",
       "      <td>0.0</td>\n",
       "      <td>0.0</td>\n",
       "      <td>0</td>\n",
       "      <td>0.0</td>\n",
       "      <td>0.0</td>\n",
       "      <td>77722.0</td>\n",
       "      <td>0.0</td>\n",
       "      <td>422028.0</td>\n",
       "      <td>145.0</td>\n",
       "      <td>42573.0</td>\n",
       "    </tr>\n",
       "    <tr>\n",
       "      <th>4</th>\n",
       "      <td>11 OCAK 2022</td>\n",
       "      <td>0.0</td>\n",
       "      <td>0.0</td>\n",
       "      <td>0.0</td>\n",
       "      <td>0</td>\n",
       "      <td>0.0</td>\n",
       "      <td>0.0</td>\n",
       "      <td>74266.0</td>\n",
       "      <td>0.0</td>\n",
       "      <td>430253.0</td>\n",
       "      <td>137.0</td>\n",
       "      <td>39226.0</td>\n",
       "    </tr>\n",
       "    <tr>\n",
       "      <th>...</th>\n",
       "      <td>...</td>\n",
       "      <td>...</td>\n",
       "      <td>...</td>\n",
       "      <td>...</td>\n",
       "      <td>...</td>\n",
       "      <td>...</td>\n",
       "      <td>...</td>\n",
       "      <td>...</td>\n",
       "      <td>...</td>\n",
       "      <td>...</td>\n",
       "      <td>...</td>\n",
       "      <td>...</td>\n",
       "    </tr>\n",
       "    <tr>\n",
       "      <th>397</th>\n",
       "      <td>14 ARALIK 2020</td>\n",
       "      <td>21284005.0</td>\n",
       "      <td>1866345.0</td>\n",
       "      <td>16646.0</td>\n",
       "      <td>2,9</td>\n",
       "      <td>598.0</td>\n",
       "      <td>1631944.0</td>\n",
       "      <td>29617.0</td>\n",
       "      <td>5064.0</td>\n",
       "      <td>204289.0</td>\n",
       "      <td>229.0</td>\n",
       "      <td>28164.0</td>\n",
       "    </tr>\n",
       "    <tr>\n",
       "      <th>398</th>\n",
       "      <td>13 ARALIK 2020</td>\n",
       "      <td>21079716.0</td>\n",
       "      <td>1836728.0</td>\n",
       "      <td>16417.0</td>\n",
       "      <td>3,1</td>\n",
       "      <td>5973.0</td>\n",
       "      <td>1603780.0</td>\n",
       "      <td>26919.0</td>\n",
       "      <td>5103.0</td>\n",
       "      <td>181199.0</td>\n",
       "      <td>218.0</td>\n",
       "      <td>22215.0</td>\n",
       "    </tr>\n",
       "    <tr>\n",
       "      <th>399</th>\n",
       "      <td>12 ARALIK 2020</td>\n",
       "      <td>20898517.0</td>\n",
       "      <td>1809809.0</td>\n",
       "      <td>16199.0</td>\n",
       "      <td>3,1</td>\n",
       "      <td>5961.0</td>\n",
       "      <td>1581565.0</td>\n",
       "      <td>29136.0</td>\n",
       "      <td>5203.0</td>\n",
       "      <td>189065.0</td>\n",
       "      <td>222.0</td>\n",
       "      <td>20191.0</td>\n",
       "    </tr>\n",
       "    <tr>\n",
       "      <th>400</th>\n",
       "      <td>11 ARALIK 2020</td>\n",
       "      <td>20709452.0</td>\n",
       "      <td>1780673.0</td>\n",
       "      <td>15977.0</td>\n",
       "      <td>3,1</td>\n",
       "      <td>5952.0</td>\n",
       "      <td>458109.0</td>\n",
       "      <td>32106.0</td>\n",
       "      <td>5607.0</td>\n",
       "      <td>208873.0</td>\n",
       "      <td>226.0</td>\n",
       "      <td>5516.0</td>\n",
       "    </tr>\n",
       "    <tr>\n",
       "      <th>401</th>\n",
       "      <td>10 ARALIK 2020</td>\n",
       "      <td>20500579.0</td>\n",
       "      <td>1748567.0</td>\n",
       "      <td>15751.0</td>\n",
       "      <td>3,1</td>\n",
       "      <td>5943.0</td>\n",
       "      <td>452593.0</td>\n",
       "      <td>30424.0</td>\n",
       "      <td>5918.0</td>\n",
       "      <td>206202.0</td>\n",
       "      <td>220.0</td>\n",
       "      <td>5232.0</td>\n",
       "    </tr>\n",
       "  </tbody>\n",
       "</table>\n",
       "<p>402 rows × 12 columns</p>\n",
       "</div>"
      ],
      "text/plain": [
       "              Tarih  Toplam Test Sayısı  Toplam Vaka Sayısı  \\\n",
       "0      15 OCAK 2022                 0.0                 0.0   \n",
       "1      14 OCAK 2022                 0.0                 0.0   \n",
       "2      13 OCAK 2022                 0.0                 0.0   \n",
       "3      12 OCAK 2022                 0.0                 0.0   \n",
       "4      11 OCAK 2022                 0.0                 0.0   \n",
       "..              ...                 ...                 ...   \n",
       "397  14 ARALIK 2020          21284005.0           1866345.0   \n",
       "398  13 ARALIK 2020          21079716.0           1836728.0   \n",
       "399  12 ARALIK 2020          20898517.0           1809809.0   \n",
       "400  11 ARALIK 2020          20709452.0           1780673.0   \n",
       "401  10 ARALIK 2020          20500579.0           1748567.0   \n",
       "\n",
       "     Toplam Vefat Sayısı Hastalarda Zatürre Oranı (%)  Ağır Hasta Sayısı  \\\n",
       "0                    0.0                            0                0.0   \n",
       "1                    0.0                            0                0.0   \n",
       "2                    0.0                            0                0.0   \n",
       "3                    0.0                            0                0.0   \n",
       "4                    0.0                            0                0.0   \n",
       "..                   ...                          ...                ...   \n",
       "397              16646.0                          2,9              598.0   \n",
       "398              16417.0                          3,1             5973.0   \n",
       "399              16199.0                          3,1             5961.0   \n",
       "400              15977.0                          3,1             5952.0   \n",
       "401              15751.0                          3,1             5943.0   \n",
       "\n",
       "     Toplam İyileşen Hasta Sayısı  Bugünkü Vaka Sayısı  Bugünkü Hasta Sayısı  \\\n",
       "0                             0.0              63967.0                   0.0   \n",
       "1                             0.0              67857.0                   0.0   \n",
       "2                             0.0              75564.0                   0.0   \n",
       "3                             0.0              77722.0                   0.0   \n",
       "4                             0.0              74266.0                   0.0   \n",
       "..                            ...                  ...                   ...   \n",
       "397                     1631944.0              29617.0                5064.0   \n",
       "398                     1603780.0              26919.0                5103.0   \n",
       "399                     1581565.0              29136.0                5203.0   \n",
       "400                      458109.0              32106.0                5607.0   \n",
       "401                      452593.0              30424.0                5918.0   \n",
       "\n",
       "     Bugünkü Test Sayısı  Bugünkü Vefat Sayısı  Bugünkü İyileşen Sayısı  \n",
       "0               384263.0                 177.0                  52016.0  \n",
       "1               392438.0                 167.0                  56256.0  \n",
       "2               410116.0                 153.0                  51675.0  \n",
       "3               422028.0                 145.0                  42573.0  \n",
       "4               430253.0                 137.0                  39226.0  \n",
       "..                   ...                   ...                      ...  \n",
       "397             204289.0                 229.0                  28164.0  \n",
       "398             181199.0                 218.0                  22215.0  \n",
       "399             189065.0                 222.0                  20191.0  \n",
       "400             208873.0                 226.0                   5516.0  \n",
       "401             206202.0                 220.0                   5232.0  \n",
       "\n",
       "[402 rows x 12 columns]"
      ]
     },
     "execution_count": 8,
     "metadata": {},
     "output_type": "execute_result"
    }
   ],
   "source": [
    "covid_tr"
   ]
  },
  {
   "cell_type": "code",
   "execution_count": 9,
   "id": "906a3fe4-14db-4d8a-b4db-8158ad5f4932",
   "metadata": {},
   "outputs": [],
   "source": [
    "df = covid_tr[['Toplam Vaka Sayısı', 'Bugünkü Vaka Sayısı']]"
   ]
  },
  {
   "cell_type": "code",
   "execution_count": 10,
   "id": "90eded86-11b5-435f-9045-6fe1eeb6667c",
   "metadata": {},
   "outputs": [
    {
     "data": {
      "text/html": [
       "<div>\n",
       "<style scoped>\n",
       "    .dataframe tbody tr th:only-of-type {\n",
       "        vertical-align: middle;\n",
       "    }\n",
       "\n",
       "    .dataframe tbody tr th {\n",
       "        vertical-align: top;\n",
       "    }\n",
       "\n",
       "    .dataframe thead th {\n",
       "        text-align: right;\n",
       "    }\n",
       "</style>\n",
       "<table border=\"1\" class=\"dataframe\">\n",
       "  <thead>\n",
       "    <tr style=\"text-align: right;\">\n",
       "      <th></th>\n",
       "      <th>Toplam Vaka Sayısı</th>\n",
       "      <th>Bugünkü Vaka Sayısı</th>\n",
       "    </tr>\n",
       "  </thead>\n",
       "  <tbody>\n",
       "    <tr>\n",
       "      <th>0</th>\n",
       "      <td>0.0</td>\n",
       "      <td>63967.0</td>\n",
       "    </tr>\n",
       "    <tr>\n",
       "      <th>1</th>\n",
       "      <td>0.0</td>\n",
       "      <td>67857.0</td>\n",
       "    </tr>\n",
       "    <tr>\n",
       "      <th>2</th>\n",
       "      <td>0.0</td>\n",
       "      <td>75564.0</td>\n",
       "    </tr>\n",
       "    <tr>\n",
       "      <th>3</th>\n",
       "      <td>0.0</td>\n",
       "      <td>77722.0</td>\n",
       "    </tr>\n",
       "    <tr>\n",
       "      <th>4</th>\n",
       "      <td>0.0</td>\n",
       "      <td>74266.0</td>\n",
       "    </tr>\n",
       "    <tr>\n",
       "      <th>...</th>\n",
       "      <td>...</td>\n",
       "      <td>...</td>\n",
       "    </tr>\n",
       "    <tr>\n",
       "      <th>397</th>\n",
       "      <td>1866345.0</td>\n",
       "      <td>29617.0</td>\n",
       "    </tr>\n",
       "    <tr>\n",
       "      <th>398</th>\n",
       "      <td>1836728.0</td>\n",
       "      <td>26919.0</td>\n",
       "    </tr>\n",
       "    <tr>\n",
       "      <th>399</th>\n",
       "      <td>1809809.0</td>\n",
       "      <td>29136.0</td>\n",
       "    </tr>\n",
       "    <tr>\n",
       "      <th>400</th>\n",
       "      <td>1780673.0</td>\n",
       "      <td>32106.0</td>\n",
       "    </tr>\n",
       "    <tr>\n",
       "      <th>401</th>\n",
       "      <td>1748567.0</td>\n",
       "      <td>30424.0</td>\n",
       "    </tr>\n",
       "  </tbody>\n",
       "</table>\n",
       "<p>402 rows × 2 columns</p>\n",
       "</div>"
      ],
      "text/plain": [
       "     Toplam Vaka Sayısı  Bugünkü Vaka Sayısı\n",
       "0                   0.0              63967.0\n",
       "1                   0.0              67857.0\n",
       "2                   0.0              75564.0\n",
       "3                   0.0              77722.0\n",
       "4                   0.0              74266.0\n",
       "..                  ...                  ...\n",
       "397           1866345.0              29617.0\n",
       "398           1836728.0              26919.0\n",
       "399           1809809.0              29136.0\n",
       "400           1780673.0              32106.0\n",
       "401           1748567.0              30424.0\n",
       "\n",
       "[402 rows x 2 columns]"
      ]
     },
     "execution_count": 10,
     "metadata": {},
     "output_type": "execute_result"
    }
   ],
   "source": [
    "df"
   ]
  },
  {
   "cell_type": "code",
   "execution_count": 11,
   "id": "438cfff0-4d26-49b2-8337-3bfbfb42e391",
   "metadata": {},
   "outputs": [],
   "source": [
    "df = df[::-1]\n",
    "df = df.reset_index(drop=True)"
   ]
  },
  {
   "cell_type": "code",
   "execution_count": 12,
   "id": "f0788070-6be2-41a1-9ff8-73f07d67740a",
   "metadata": {},
   "outputs": [
    {
     "data": {
      "text/html": [
       "<div>\n",
       "<style scoped>\n",
       "    .dataframe tbody tr th:only-of-type {\n",
       "        vertical-align: middle;\n",
       "    }\n",
       "\n",
       "    .dataframe tbody tr th {\n",
       "        vertical-align: top;\n",
       "    }\n",
       "\n",
       "    .dataframe thead th {\n",
       "        text-align: right;\n",
       "    }\n",
       "</style>\n",
       "<table border=\"1\" class=\"dataframe\">\n",
       "  <thead>\n",
       "    <tr style=\"text-align: right;\">\n",
       "      <th></th>\n",
       "      <th>Toplam Vaka Sayısı</th>\n",
       "      <th>Bugünkü Vaka Sayısı</th>\n",
       "    </tr>\n",
       "  </thead>\n",
       "  <tbody>\n",
       "    <tr>\n",
       "      <th>0</th>\n",
       "      <td>1748567.0</td>\n",
       "      <td>30424.0</td>\n",
       "    </tr>\n",
       "    <tr>\n",
       "      <th>1</th>\n",
       "      <td>1780673.0</td>\n",
       "      <td>32106.0</td>\n",
       "    </tr>\n",
       "    <tr>\n",
       "      <th>2</th>\n",
       "      <td>1809809.0</td>\n",
       "      <td>29136.0</td>\n",
       "    </tr>\n",
       "    <tr>\n",
       "      <th>3</th>\n",
       "      <td>1836728.0</td>\n",
       "      <td>26919.0</td>\n",
       "    </tr>\n",
       "    <tr>\n",
       "      <th>4</th>\n",
       "      <td>1866345.0</td>\n",
       "      <td>29617.0</td>\n",
       "    </tr>\n",
       "    <tr>\n",
       "      <th>...</th>\n",
       "      <td>...</td>\n",
       "      <td>...</td>\n",
       "    </tr>\n",
       "    <tr>\n",
       "      <th>397</th>\n",
       "      <td>0.0</td>\n",
       "      <td>74266.0</td>\n",
       "    </tr>\n",
       "    <tr>\n",
       "      <th>398</th>\n",
       "      <td>0.0</td>\n",
       "      <td>77722.0</td>\n",
       "    </tr>\n",
       "    <tr>\n",
       "      <th>399</th>\n",
       "      <td>0.0</td>\n",
       "      <td>75564.0</td>\n",
       "    </tr>\n",
       "    <tr>\n",
       "      <th>400</th>\n",
       "      <td>0.0</td>\n",
       "      <td>67857.0</td>\n",
       "    </tr>\n",
       "    <tr>\n",
       "      <th>401</th>\n",
       "      <td>0.0</td>\n",
       "      <td>63967.0</td>\n",
       "    </tr>\n",
       "  </tbody>\n",
       "</table>\n",
       "<p>402 rows × 2 columns</p>\n",
       "</div>"
      ],
      "text/plain": [
       "     Toplam Vaka Sayısı  Bugünkü Vaka Sayısı\n",
       "0             1748567.0              30424.0\n",
       "1             1780673.0              32106.0\n",
       "2             1809809.0              29136.0\n",
       "3             1836728.0              26919.0\n",
       "4             1866345.0              29617.0\n",
       "..                  ...                  ...\n",
       "397                 0.0              74266.0\n",
       "398                 0.0              77722.0\n",
       "399                 0.0              75564.0\n",
       "400                 0.0              67857.0\n",
       "401                 0.0              63967.0\n",
       "\n",
       "[402 rows x 2 columns]"
      ]
     },
     "execution_count": 12,
     "metadata": {},
     "output_type": "execute_result"
    }
   ],
   "source": [
    "df"
   ]
  },
  {
   "cell_type": "code",
   "execution_count": 13,
   "id": "f4d51ba1-1b7a-4511-ad04-bb05c65c7f4a",
   "metadata": {},
   "outputs": [],
   "source": [
    "for i in range(df.shape[0]):\n",
    "    if df.iloc[i]['Toplam Vaka Sayısı'] == 0:\n",
    "        df.iloc[i]['Toplam Vaka Sayısı'] = int(float(df.iloc[i-1]['Toplam Vaka Sayısı'])) + int(float(df.iloc[i]['Bugünkü Vaka Sayısı']))"
   ]
  },
  {
   "cell_type": "code",
   "execution_count": 14,
   "id": "953d73f4-cf8f-4398-b001-c4532a2f7dcd",
   "metadata": {},
   "outputs": [],
   "source": [
    "df.iloc[0]['Bugünkü Vaka Sayısı'] = 0"
   ]
  },
  {
   "cell_type": "code",
   "execution_count": 15,
   "id": "afd8c225-758b-4a33-b5f7-efc99fc12e15",
   "metadata": {},
   "outputs": [],
   "source": [
    "df = df[1:]"
   ]
  },
  {
   "cell_type": "code",
   "execution_count": 16,
   "id": "c0890755-9cbe-4602-b9ff-a77ec9cd798a",
   "metadata": {},
   "outputs": [
    {
     "data": {
      "text/html": [
       "<div>\n",
       "<style scoped>\n",
       "    .dataframe tbody tr th:only-of-type {\n",
       "        vertical-align: middle;\n",
       "    }\n",
       "\n",
       "    .dataframe tbody tr th {\n",
       "        vertical-align: top;\n",
       "    }\n",
       "\n",
       "    .dataframe thead th {\n",
       "        text-align: right;\n",
       "    }\n",
       "</style>\n",
       "<table border=\"1\" class=\"dataframe\">\n",
       "  <thead>\n",
       "    <tr style=\"text-align: right;\">\n",
       "      <th></th>\n",
       "      <th>Toplam Vaka Sayısı</th>\n",
       "      <th>Bugünkü Vaka Sayısı</th>\n",
       "    </tr>\n",
       "  </thead>\n",
       "  <tbody>\n",
       "    <tr>\n",
       "      <th>0</th>\n",
       "      <td>1780673.0</td>\n",
       "      <td>32106.0</td>\n",
       "    </tr>\n",
       "    <tr>\n",
       "      <th>1</th>\n",
       "      <td>1809809.0</td>\n",
       "      <td>29136.0</td>\n",
       "    </tr>\n",
       "    <tr>\n",
       "      <th>2</th>\n",
       "      <td>1836728.0</td>\n",
       "      <td>26919.0</td>\n",
       "    </tr>\n",
       "    <tr>\n",
       "      <th>3</th>\n",
       "      <td>1866345.0</td>\n",
       "      <td>29617.0</td>\n",
       "    </tr>\n",
       "    <tr>\n",
       "      <th>4</th>\n",
       "      <td>1898447.0</td>\n",
       "      <td>32102.0</td>\n",
       "    </tr>\n",
       "    <tr>\n",
       "      <th>...</th>\n",
       "      <td>...</td>\n",
       "      <td>...</td>\n",
       "    </tr>\n",
       "    <tr>\n",
       "      <th>396</th>\n",
       "      <td>9699526.0</td>\n",
       "      <td>74266.0</td>\n",
       "    </tr>\n",
       "    <tr>\n",
       "      <th>397</th>\n",
       "      <td>9777248.0</td>\n",
       "      <td>77722.0</td>\n",
       "    </tr>\n",
       "    <tr>\n",
       "      <th>398</th>\n",
       "      <td>9852812.0</td>\n",
       "      <td>75564.0</td>\n",
       "    </tr>\n",
       "    <tr>\n",
       "      <th>399</th>\n",
       "      <td>9920669.0</td>\n",
       "      <td>67857.0</td>\n",
       "    </tr>\n",
       "    <tr>\n",
       "      <th>400</th>\n",
       "      <td>9984636.0</td>\n",
       "      <td>63967.0</td>\n",
       "    </tr>\n",
       "  </tbody>\n",
       "</table>\n",
       "<p>401 rows × 2 columns</p>\n",
       "</div>"
      ],
      "text/plain": [
       "     Toplam Vaka Sayısı  Bugünkü Vaka Sayısı\n",
       "0             1780673.0              32106.0\n",
       "1             1809809.0              29136.0\n",
       "2             1836728.0              26919.0\n",
       "3             1866345.0              29617.0\n",
       "4             1898447.0              32102.0\n",
       "..                  ...                  ...\n",
       "396           9699526.0              74266.0\n",
       "397           9777248.0              77722.0\n",
       "398           9852812.0              75564.0\n",
       "399           9920669.0              67857.0\n",
       "400           9984636.0              63967.0\n",
       "\n",
       "[401 rows x 2 columns]"
      ]
     },
     "execution_count": 16,
     "metadata": {},
     "output_type": "execute_result"
    }
   ],
   "source": [
    "df = df.reset_index(drop = True)\n",
    "df"
   ]
  },
  {
   "cell_type": "code",
   "execution_count": 17,
   "id": "2fd04c5e-4fbf-4f56-8c96-9d5b6d20ef8f",
   "metadata": {},
   "outputs": [],
   "source": [
    "df['ID'] = df.index"
   ]
  },
  {
   "cell_type": "code",
   "execution_count": 18,
   "id": "73a81582-82c9-4454-8382-e324d6f63b5c",
   "metadata": {},
   "outputs": [
    {
     "data": {
      "text/html": [
       "<div>\n",
       "<style scoped>\n",
       "    .dataframe tbody tr th:only-of-type {\n",
       "        vertical-align: middle;\n",
       "    }\n",
       "\n",
       "    .dataframe tbody tr th {\n",
       "        vertical-align: top;\n",
       "    }\n",
       "\n",
       "    .dataframe thead th {\n",
       "        text-align: right;\n",
       "    }\n",
       "</style>\n",
       "<table border=\"1\" class=\"dataframe\">\n",
       "  <thead>\n",
       "    <tr style=\"text-align: right;\">\n",
       "      <th></th>\n",
       "      <th>Toplam Vaka Sayısı</th>\n",
       "      <th>Bugünkü Vaka Sayısı</th>\n",
       "      <th>ID</th>\n",
       "    </tr>\n",
       "  </thead>\n",
       "  <tbody>\n",
       "    <tr>\n",
       "      <th>0</th>\n",
       "      <td>1780673.0</td>\n",
       "      <td>32106.0</td>\n",
       "      <td>0</td>\n",
       "    </tr>\n",
       "    <tr>\n",
       "      <th>1</th>\n",
       "      <td>1809809.0</td>\n",
       "      <td>29136.0</td>\n",
       "      <td>1</td>\n",
       "    </tr>\n",
       "    <tr>\n",
       "      <th>2</th>\n",
       "      <td>1836728.0</td>\n",
       "      <td>26919.0</td>\n",
       "      <td>2</td>\n",
       "    </tr>\n",
       "    <tr>\n",
       "      <th>3</th>\n",
       "      <td>1866345.0</td>\n",
       "      <td>29617.0</td>\n",
       "      <td>3</td>\n",
       "    </tr>\n",
       "    <tr>\n",
       "      <th>4</th>\n",
       "      <td>1898447.0</td>\n",
       "      <td>32102.0</td>\n",
       "      <td>4</td>\n",
       "    </tr>\n",
       "    <tr>\n",
       "      <th>...</th>\n",
       "      <td>...</td>\n",
       "      <td>...</td>\n",
       "      <td>...</td>\n",
       "    </tr>\n",
       "    <tr>\n",
       "      <th>396</th>\n",
       "      <td>9699526.0</td>\n",
       "      <td>74266.0</td>\n",
       "      <td>396</td>\n",
       "    </tr>\n",
       "    <tr>\n",
       "      <th>397</th>\n",
       "      <td>9777248.0</td>\n",
       "      <td>77722.0</td>\n",
       "      <td>397</td>\n",
       "    </tr>\n",
       "    <tr>\n",
       "      <th>398</th>\n",
       "      <td>9852812.0</td>\n",
       "      <td>75564.0</td>\n",
       "      <td>398</td>\n",
       "    </tr>\n",
       "    <tr>\n",
       "      <th>399</th>\n",
       "      <td>9920669.0</td>\n",
       "      <td>67857.0</td>\n",
       "      <td>399</td>\n",
       "    </tr>\n",
       "    <tr>\n",
       "      <th>400</th>\n",
       "      <td>9984636.0</td>\n",
       "      <td>63967.0</td>\n",
       "      <td>400</td>\n",
       "    </tr>\n",
       "  </tbody>\n",
       "</table>\n",
       "<p>401 rows × 3 columns</p>\n",
       "</div>"
      ],
      "text/plain": [
       "     Toplam Vaka Sayısı  Bugünkü Vaka Sayısı   ID\n",
       "0             1780673.0              32106.0    0\n",
       "1             1809809.0              29136.0    1\n",
       "2             1836728.0              26919.0    2\n",
       "3             1866345.0              29617.0    3\n",
       "4             1898447.0              32102.0    4\n",
       "..                  ...                  ...  ...\n",
       "396           9699526.0              74266.0  396\n",
       "397           9777248.0              77722.0  397\n",
       "398           9852812.0              75564.0  398\n",
       "399           9920669.0              67857.0  399\n",
       "400           9984636.0              63967.0  400\n",
       "\n",
       "[401 rows x 3 columns]"
      ]
     },
     "execution_count": 18,
     "metadata": {},
     "output_type": "execute_result"
    }
   ],
   "source": [
    "df"
   ]
  },
  {
   "cell_type": "code",
   "execution_count": 176,
   "id": "33e8fe57-e466-4fcb-9045-9614da303f5b",
   "metadata": {},
   "outputs": [
    {
     "data": {
      "image/png": "[encoded data removed]",
      "text/plain": [
       "<Figure size 432x288 with 1 Axes>"
      ]
     },
     "metadata": {
      "needs_background": "light"
     },
     "output_type": "display_data"
    }
   ],
   "source": [
    "plt.figure()\n",
    "plt.plot(np.array(df['ID']).reshape(-1,), np.array(df['Toplam Vaka Sayısı']), '.')\n",
    "plt.title('Total Cases Covid-19 Turkey')\n",
    "plt.ticklabel_format(style = 'plain')\n",
    "plt.show()"
   ]
  },
  {
   "cell_type": "markdown",
   "id": "309e2ae2-a5a3-4bbb-9b8c-82fd6e36871b",
   "metadata": {
    "tags": []
   },
   "source": [
    "# Linear Regression No shuffle"
   ]
  },
  {
   "cell_type": "code",
   "execution_count": 54,
   "id": "7ce99309-aed7-4dc1-8012-f611b8ce7e66",
   "metadata": {},
   "outputs": [],
   "source": [
    "from sklearn.linear_model import LinearRegression"
   ]
  },
  {
   "cell_type": "code",
   "execution_count": 55,
   "id": "e8b9fb98-4c3f-42c1-940d-b97afd8c9c4b",
   "metadata": {},
   "outputs": [],
   "source": [
    "X = np.array(df['ID']).reshape(-1, 1)\n",
    "y = np.array(df['Toplam Vaka Sayısı']).reshape(-1,1)"
   ]
  },
  {
   "cell_type": "code",
   "execution_count": 177,
   "id": "5f40b313-1d93-4c4c-a7cd-25048b3f74b4",
   "metadata": {},
   "outputs": [],
   "source": [
    "X_train, X_test, y_train, y_test = train_test_split(X, y, test_size=0.3, random_state=0, shuffle=False)"
   ]
  },
  {
   "cell_type": "code",
   "execution_count": 178,
   "id": "f7501354-e6db-4180-8a36-8a7f5d73cba3",
   "metadata": {},
   "outputs": [],
   "source": [
    "reg = LinearRegression().fit(X_train, y_train.reshape(-1,))"
   ]
  },
  {
   "cell_type": "code",
   "execution_count": 179,
   "id": "24646418-1c2c-4251-9847-7cd448d43307",
   "metadata": {},
   "outputs": [
    {
     "data": {
      "text/plain": [
       "0.9544220846442706"
      ]
     },
     "execution_count": 179,
     "metadata": {},
     "output_type": "execute_result"
    }
   ],
   "source": [
    "reg.score(X_train, y_train.reshape(-1,))"
   ]
  },
  {
   "cell_type": "code",
   "execution_count": 180,
   "id": "f1ab99e7-50cd-460f-aaf9-7c9a3b256d2c",
   "metadata": {},
   "outputs": [
    {
     "data": {
      "text/plain": [
       "array([18160.43331639])"
      ]
     },
     "execution_count": 180,
     "metadata": {},
     "output_type": "execute_result"
    }
   ],
   "source": [
    "reg.coef_"
   ]
  },
  {
   "cell_type": "code",
   "execution_count": 181,
   "id": "12d65f41-8013-4dc0-94b9-55fc1aba005f",
   "metadata": {},
   "outputs": [
    {
     "data": {
      "text/plain": [
       "1685364.438078293"
      ]
     },
     "execution_count": 181,
     "metadata": {},
     "output_type": "execute_result"
    }
   ],
   "source": [
    "reg.intercept_"
   ]
  },
  {
   "cell_type": "code",
   "execution_count": 182,
   "id": "a77ca8b5-a84d-4e43-bd8c-ff32506baf36",
   "metadata": {},
   "outputs": [],
   "source": [
    "pred = reg.predict(X_train)"
   ]
  },
  {
   "cell_type": "code",
   "execution_count": 183,
   "id": "d88d1624-63ab-4221-ae9f-18d306f25aae",
   "metadata": {},
   "outputs": [],
   "source": [
    "y_pred = reg.predict(X_test)"
   ]
  },
  {
   "cell_type": "code",
   "execution_count": 184,
   "id": "9c9a7547-f3c1-44a6-8b6f-c14b454c7b05",
   "metadata": {},
   "outputs": [
    {
     "data": {
      "text/plain": [
       "array([6770285.76666667, 6788446.19998305, 6806606.63329944,\n",
       "       6824767.06661583, 6842927.49993221, 6861087.9332486 ,\n",
       "       6879248.36656499, 6897408.79988138, 6915569.23319776,\n",
       "       6933729.66651415, 6951890.09983054, 6970050.53314692,\n",
       "       6988210.96646331, 7006371.3997797 , 7024531.83309609,\n",
       "       7042692.26641247, 7060852.69972886, 7079013.13304525,\n",
       "       7097173.56636163, 7115333.99967802, 7133494.43299441,\n",
       "       7151654.86631079, 7169815.29962718, 7187975.73294357,\n",
       "       7206136.16625996, 7224296.59957634, 7242457.03289273,\n",
       "       7260617.46620912, 7278777.8995255 , 7296938.33284189,\n",
       "       7315098.76615828, 7333259.19947466, 7351419.63279105,\n",
       "       7369580.06610744, 7387740.49942383, 7405900.93274021,\n",
       "       7424061.3660566 , 7442221.79937299, 7460382.23268937,\n",
       "       7478542.66600576, 7496703.09932215, 7514863.53263853,\n",
       "       7533023.96595492, 7551184.39927131, 7569344.8325877 ,\n",
       "       7587505.26590408, 7605665.69922047, 7623826.13253686,\n",
       "       7641986.56585324, 7660146.99916963, 7678307.43248602,\n",
       "       7696467.86580241, 7714628.29911879, 7732788.73243518,\n",
       "       7750949.16575157, 7769109.59906795, 7787270.03238434,\n",
       "       7805430.46570073, 7823590.89901711, 7841751.3323335 ,\n",
       "       7859911.76564989, 7878072.19896628, 7896232.63228266,\n",
       "       7914393.06559905, 7932553.49891544, 7950713.93223182,\n",
       "       7968874.36554821, 7987034.7988646 , 8005195.23218098,\n",
       "       8023355.66549737, 8041516.09881376, 8059676.53213015,\n",
       "       8077836.96544653, 8095997.39876292, 8114157.83207931,\n",
       "       8132318.2653957 , 8150478.69871208, 8168639.13202847,\n",
       "       8186799.56534486, 8204959.99866124, 8223120.43197763,\n",
       "       8241280.86529402, 8259441.2986104 , 8277601.73192679,\n",
       "       8295762.16524318, 8313922.59855957, 8332083.03187595,\n",
       "       8350243.46519234, 8368403.89850873, 8386564.33182511,\n",
       "       8404724.7651415 , 8422885.19845789, 8441045.63177427,\n",
       "       8459206.06509066, 8477366.49840705, 8495526.93172344,\n",
       "       8513687.36503982, 8531847.79835621, 8550008.2316726 ,\n",
       "       8568168.66498898, 8586329.09830537, 8604489.53162176,\n",
       "       8622649.96493815, 8640810.39825453, 8658970.83157092,\n",
       "       8677131.26488731, 8695291.69820369, 8713452.13152008,\n",
       "       8731612.56483647, 8749772.99815285, 8767933.43146924,\n",
       "       8786093.86478563, 8804254.29810202, 8822414.7314184 ,\n",
       "       8840575.16473479, 8858735.59805118, 8876896.03136756,\n",
       "       8895056.46468395, 8913216.89800034, 8931377.33131672,\n",
       "       8949537.76463311])"
      ]
     },
     "execution_count": 184,
     "metadata": {},
     "output_type": "execute_result"
    }
   ],
   "source": [
    "y_pred"
   ]
  },
  {
   "cell_type": "code",
   "execution_count": 185,
   "id": "34026f5f-0792-4381-8853-a45afdf979f9",
   "metadata": {},
   "outputs": [
    {
     "data": {
      "text/plain": [
       "0.8227409238204726"
      ]
     },
     "execution_count": 185,
     "metadata": {},
     "output_type": "execute_result"
    }
   ],
   "source": [
    "r2_score(y_test, y_pred)"
   ]
  },
  {
   "cell_type": "code",
   "execution_count": 186,
   "id": "0f57dc7e-5131-4d41-84da-1cbd5741448a",
   "metadata": {},
   "outputs": [
    {
     "data": {
      "image/png": "[encoded data removed]",
      "text/plain": [
       "<Figure size 432x288 with 1 Axes>"
      ]
     },
     "metadata": {
      "needs_background": "light"
     },
     "output_type": "display_data"
    }
   ],
   "source": [
    "plt.figure()\n",
    "plt.plot(X, y.reshape(-1,), '.')\n",
    "plt.plot(X_train, pred, label='train')\n",
    "plt.plot(X_test, y_pred, label='test')\n",
    "plt.ticklabel_format(style = 'plain')\n",
    "plt.title('Estimated Line')\n",
    "plt.legend()\n",
    "plt.show()"
   ]
  },
  {
   "cell_type": "markdown",
   "id": "f84a3653-6cb9-40cb-abd1-198a4823887f",
   "metadata": {},
   "source": [
    "The data contains everything from 10 Decemnber 2020 to 16 Janurary 2022. Linear Regression got a r2 score of 0.8227409238204726"
   ]
  },
  {
   "cell_type": "markdown",
   "id": "7c4ea71c-abfc-49dc-b53e-b96cbedc6b1b",
   "metadata": {
    "tags": []
   },
   "source": [
    "# Linear Regression With Shuffle"
   ]
  },
  {
   "cell_type": "code",
   "execution_count": 226,
   "id": "79c2cc15-8dc2-4e58-9265-32309fea31a6",
   "metadata": {},
   "outputs": [],
   "source": [
    "X = np.array(df['ID']).reshape(-1, 1)\n",
    "y = np.array(df['Toplam Vaka Sayısı']).reshape(-1,1)"
   ]
  },
  {
   "cell_type": "code",
   "execution_count": 227,
   "id": "671d490b-24f3-4fea-84d0-8865a4fac20d",
   "metadata": {},
   "outputs": [],
   "source": [
    "X_train, X_test, y_train, y_test = train_test_split(X, y, test_size=0.3, random_state=0, shuffle=True)"
   ]
  },
  {
   "cell_type": "code",
   "execution_count": 228,
   "id": "4bddf787-79f8-42f2-aac7-e30e8cbae383",
   "metadata": {},
   "outputs": [],
   "source": [
    "reg = LinearRegression().fit(X_train, y_train.reshape(-1,))"
   ]
  },
  {
   "cell_type": "code",
   "execution_count": 229,
   "id": "41bd8f46-2d64-4c33-a6e0-8c536ae346c5",
   "metadata": {},
   "outputs": [
    {
     "data": {
      "text/plain": [
       "0.9832864394166422"
      ]
     },
     "execution_count": 229,
     "metadata": {},
     "output_type": "execute_result"
    }
   ],
   "source": [
    "reg.score(X_train, y_train.reshape(-1,))"
   ]
  },
  {
   "cell_type": "code",
   "execution_count": 230,
   "id": "efa959bd-95ae-49d1-821b-b4ccec49169f",
   "metadata": {},
   "outputs": [
    {
     "data": {
      "text/plain": [
       "array([19238.06736067])"
      ]
     },
     "execution_count": 230,
     "metadata": {},
     "output_type": "execute_result"
    }
   ],
   "source": [
    "reg.coef_"
   ]
  },
  {
   "cell_type": "code",
   "execution_count": 231,
   "id": "bb8a6cc8-a0f2-4615-80d7-c7ef7bb2a7f6",
   "metadata": {},
   "outputs": [
    {
     "data": {
      "text/plain": [
       "1537541.2171033504"
      ]
     },
     "execution_count": 231,
     "metadata": {},
     "output_type": "execute_result"
    }
   ],
   "source": [
    "reg.intercept_"
   ]
  },
  {
   "cell_type": "code",
   "execution_count": 232,
   "id": "1e240d8a-7178-43df-8b23-bd4b7ccb4331",
   "metadata": {},
   "outputs": [
    {
     "data": {
      "text/plain": [
       "0.9799774956121751"
      ]
     },
     "execution_count": 232,
     "metadata": {},
     "output_type": "execute_result"
    }
   ],
   "source": [
    "pred = reg.predict(X_train)\n",
    "y_pred = reg.predict(X_test)\n",
    "r2_score(y_test, y_pred)"
   ]
  },
  {
   "cell_type": "code",
   "execution_count": 233,
   "id": "102f9995-b983-4f9e-960b-b8e1ac347694",
   "metadata": {},
   "outputs": [],
   "source": [
    "pred = np.sort(pred, axis=0)\n",
    "y_pred = np.sort(y_pred, axis = 0)"
   ]
  },
  {
   "cell_type": "code",
   "execution_count": 234,
   "id": "763a546b-91fd-43f1-9a7e-4fa131c9a189",
   "metadata": {},
   "outputs": [
    {
     "data": {
      "image/png": "[encoded data removed]",
      "text/plain": [
       "<Figure size 432x288 with 1 Axes>"
      ]
     },
     "metadata": {
      "needs_background": "light"
     },
     "output_type": "display_data"
    }
   ],
   "source": [
    "plt.figure()\n",
    "plt.plot(X, y.reshape(-1,), '.')\n",
    "plt.plot(np.sort(X_train, axis=0), pred, '+', label='train')\n",
    "plt.plot(np.sort(X_test, axis=0), y_pred, '*', label='test')\n",
    "plt.ticklabel_format(style = 'plain')\n",
    "plt.title('Estimated Line')\n",
    "plt.legend()\n",
    "plt.show()"
   ]
  },
  {
   "cell_type": "markdown",
   "id": "24d1dc37-5692-4498-a77f-1e770bc81576",
   "metadata": {
    "jp-MarkdownHeadingCollapsed": true,
    "tags": []
   },
   "source": [
    "# SVR (Support Vector Regression)"
   ]
  },
  {
   "cell_type": "code",
   "execution_count": 66,
   "id": "5bf741fa-ca8e-4ec8-8780-036001878169",
   "metadata": {},
   "outputs": [],
   "source": [
    "from sklearn.pipeline import make_pipeline\n",
    "from sklearn.preprocessing import StandardScaler\n",
    "from sklearn.svm import SVR"
   ]
  },
  {
   "cell_type": "code",
   "execution_count": 67,
   "id": "ff22d3f6-51e5-464d-aeb9-1b38e68a7283",
   "metadata": {},
   "outputs": [],
   "source": [
    "X = np.array(df['ID']).reshape(-1, 1)\n",
    "y = np.array(df['Toplam Vaka Sayısı']).reshape(-1,1)"
   ]
  },
  {
   "cell_type": "code",
   "execution_count": 68,
   "id": "ca5272bc-9df6-41b8-9252-e5339fcce3b7",
   "metadata": {},
   "outputs": [],
   "source": [
    "X_train, X_test, y_train, y_test = train_test_split(X, y, test_size=0.3, random_state=0, shuffle=False)"
   ]
  },
  {
   "cell_type": "code",
   "execution_count": 69,
   "id": "c198960b-687a-4214-8b51-b259b8dda4c4",
   "metadata": {},
   "outputs": [],
   "source": [
    "sc_X = StandardScaler()\n",
    "sc_y = StandardScaler()\n",
    "X_train_scaled = sc_X.fit_transform(X_train)\n",
    "y_train_scaled = sc_y.fit_transform(y_train)"
   ]
  },
  {
   "cell_type": "code",
   "execution_count": 70,
   "id": "b022ba16-eee8-44d3-8817-2b24a007dbef",
   "metadata": {},
   "outputs": [
    {
     "data": {
      "text/plain": [
       "SVR(C=60.0, epsilon=0.5)"
      ]
     },
     "execution_count": 70,
     "metadata": {},
     "output_type": "execute_result"
    }
   ],
   "source": [
    "svr = SVR(C=60.0, epsilon=0.5)\n",
    "svr.fit(X_train_scaled, y_train_scaled.reshape(-1,))"
   ]
  },
  {
   "cell_type": "code",
   "execution_count": 71,
   "id": "729bb563-0019-4399-a1eb-e28abfb5c8e0",
   "metadata": {},
   "outputs": [
    {
     "data": {
      "text/plain": [
       "0.8717245477433817"
      ]
     },
     "execution_count": 71,
     "metadata": {},
     "output_type": "execute_result"
    }
   ],
   "source": [
    "svr.score(X_train_scaled, y_train_scaled.reshape(-1,))"
   ]
  },
  {
   "cell_type": "code",
   "execution_count": 72,
   "id": "403f55ad-f299-4e8e-95de-da88a7292aea",
   "metadata": {},
   "outputs": [
    {
     "data": {
      "text/plain": [
       "(280, 1)"
      ]
     },
     "execution_count": 72,
     "metadata": {},
     "output_type": "execute_result"
    }
   ],
   "source": [
    "X_train.shape"
   ]
  },
  {
   "cell_type": "code",
   "execution_count": 73,
   "id": "fa0d529a-2eea-4b1d-8275-143a5dae9a78",
   "metadata": {},
   "outputs": [],
   "source": [
    "pred = svr.predict(X_train_scaled)"
   ]
  },
  {
   "cell_type": "code",
   "execution_count": 74,
   "id": "0f6269c1-060f-4e60-8587-fc1f2d0322df",
   "metadata": {},
   "outputs": [],
   "source": [
    "pred = sc_y.inverse_transform(pred.reshape(-1,1))"
   ]
  },
  {
   "cell_type": "code",
   "execution_count": 75,
   "id": "be976c9d-2d6e-4f52-8b80-37339236f528",
   "metadata": {},
   "outputs": [],
   "source": [
    "X_test_scaled = sc_X.fit_transform(X_test)"
   ]
  },
  {
   "cell_type": "code",
   "execution_count": null,
   "id": "e5bdb1ce-0af1-45f3-9b16-3e2fd2f0736b",
   "metadata": {},
   "outputs": [],
   "source": [
    "y_pred = svr.predict(X_test_scaled)\n",
    "y_pred = sc_y.inverse_transform(y_pred.reshape(-1,1))\n",
    "y_pred"
   ]
  },
  {
   "cell_type": "code",
   "execution_count": 77,
   "id": "58586954-ac41-427d-89e5-8e81434d6262",
   "metadata": {},
   "outputs": [
    {
     "data": {
      "text/plain": [
       "-20.940741025014486"
      ]
     },
     "execution_count": 77,
     "metadata": {},
     "output_type": "execute_result"
    }
   ],
   "source": [
    "r2_score(y_test, y_pred)"
   ]
  },
  {
   "cell_type": "code",
   "execution_count": 78,
   "id": "c4f554de-8989-44f5-a9e2-dada0f3844c7",
   "metadata": {},
   "outputs": [
    {
     "data": {
      "image/png": "[encoded data removed]",
      "text/plain": [
       "<Figure size 432x288 with 1 Axes>"
      ]
     },
     "metadata": {
      "needs_background": "light"
     },
     "output_type": "display_data"
    }
   ],
   "source": [
    "plt.plot(X, y.reshape(-1,), '.')\n",
    "plt.plot(X_train, pred, label='train')\n",
    "plt.plot(X_test, y_pred, label='test')\n",
    "#plt.scatter(X_train, y_train.reshape(-1,), color = 'red')\n",
    "#plt.plot(X_train, y_pred, color = 'blue')  \n",
    "plt.ticklabel_format(style = 'plain')\n",
    "plt.title('Estimated Line (SVR)')\n",
    "plt.legend()\n",
    "plt.show()"
   ]
  },
  {
   "cell_type": "markdown",
   "id": "9c82aa2c-41a8-474f-ae05-1a999a96a211",
   "metadata": {},
   "source": [
    "# SVR with Shuffle"
   ]
  },
  {
   "cell_type": "code",
   "execution_count": 235,
   "id": "a8cfd2fa-aadc-496c-87e5-94b0e799b804",
   "metadata": {},
   "outputs": [],
   "source": [
    "from sklearn.pipeline import make_pipeline\n",
    "from sklearn.preprocessing import StandardScaler\n",
    "from sklearn.svm import SVR"
   ]
  },
  {
   "cell_type": "code",
   "execution_count": 236,
   "id": "a2496d41-09dc-4b98-bccf-17aa370fd9b2",
   "metadata": {},
   "outputs": [],
   "source": [
    "X = np.array(df['ID']).reshape(-1, 1)\n",
    "y = np.array(df['Toplam Vaka Sayısı']).reshape(-1,1)"
   ]
  },
  {
   "cell_type": "code",
   "execution_count": 237,
   "id": "586f1388-7b58-429e-a92c-e3da52f9cd09",
   "metadata": {},
   "outputs": [],
   "source": [
    "X_train, X_test, y_train, y_test = train_test_split(X, y, test_size=0.3, random_state=0, shuffle=True)"
   ]
  },
  {
   "cell_type": "code",
   "execution_count": 254,
   "id": "12b4b586-9dc8-4afe-92cf-65d781d713e3",
   "metadata": {},
   "outputs": [],
   "source": [
    "sc_X = StandardScaler()\n",
    "sc_y = StandardScaler()\n",
    "X_train_scaled = sc_X.fit_transform(X_train)\n",
    "X_test_scaled = sc_X.fit_transform(X_test)\n",
    "y_train_scaled = sc_y.fit_transform(y_train)\n",
    "y_test_scaled = sc_y.fit_transform(y_test)\n",
    "X_scaled = sc_y.fit_transform(X)\n",
    "y_scaled = sc_y.fit_transform(y)"
   ]
  },
  {
   "cell_type": "code",
   "execution_count": 245,
   "id": "b9c38d4b-e85f-46ca-8933-8a76afafc27a",
   "metadata": {},
   "outputs": [
    {
     "data": {
      "text/plain": [
       "SVR(C=60.0, epsilon=0.5)"
      ]
     },
     "execution_count": 245,
     "metadata": {},
     "output_type": "execute_result"
    }
   ],
   "source": [
    "svr = SVR(C=60.0, epsilon=0.5)\n",
    "svr.fit(X_train_scaled, y_train_scaled.reshape(-1,))"
   ]
  },
  {
   "cell_type": "code",
   "execution_count": 246,
   "id": "14ce9ea5-552d-4717-b3d1-2b66c9496aaf",
   "metadata": {},
   "outputs": [
    {
     "data": {
      "text/plain": [
       "0.9454835634696644"
      ]
     },
     "execution_count": 246,
     "metadata": {},
     "output_type": "execute_result"
    }
   ],
   "source": [
    "svr.score(X_train_scaled, y_train_scaled.reshape(-1,))"
   ]
  },
  {
   "cell_type": "code",
   "execution_count": 247,
   "id": "5393762b-8c45-4b14-a05c-976aa3b3b803",
   "metadata": {},
   "outputs": [
    {
     "data": {
      "text/plain": [
       "(280, 1)"
      ]
     },
     "execution_count": 247,
     "metadata": {},
     "output_type": "execute_result"
    }
   ],
   "source": [
    "X_train.shape"
   ]
  },
  {
   "cell_type": "code",
   "execution_count": 249,
   "id": "b97fe95e-ca6f-40b2-9b93-679859cbf746",
   "metadata": {},
   "outputs": [
    {
     "data": {
      "text/plain": [
       "0.9427913142621536"
      ]
     },
     "execution_count": 249,
     "metadata": {},
     "output_type": "execute_result"
    }
   ],
   "source": [
    "pred = svr.predict(X_train_scaled)\n",
    "y_pred = svr.predict(X_test_scaled)\n",
    "r2_score(y_test_scaled, y_pred)"
   ]
  },
  {
   "cell_type": "code",
   "execution_count": 250,
   "id": "8103ae79-7681-4be5-b06d-d0d2038a278d",
   "metadata": {},
   "outputs": [],
   "source": [
    "pred = np.sort(pred, axis=0)\n",
    "y_pred = np.sort(y_pred, axis = 0)"
   ]
  },
  {
   "cell_type": "code",
   "execution_count": 258,
   "id": "d884b3be-419b-43f9-a71c-a486b00e30bb",
   "metadata": {},
   "outputs": [
    {
     "data": {
      "image/png": "[encoded data removed]",
      "text/plain": [
       "<Figure size 432x288 with 1 Axes>"
      ]
     },
     "metadata": {
      "needs_background": "light"
     },
     "output_type": "display_data"
    }
   ],
   "source": [
    "plt.figure()\n",
    "plt.plot(X, y.reshape(-1,), '.')\n",
    "plt.plot(sc_X.inverse_transform(np.sort(X_train_scaled, axis=0)), sc_y.inverse_transform(pred.reshape(-1,1)), '+', label='train')\n",
    "plt.plot(sc_X.inverse_transform(np.sort(X_test_scaled, axis=0)), sc_y.inverse_transform(y_pred.reshape(-1,1)), '*', label='test')\n",
    "plt.ticklabel_format(style = 'plain')\n",
    "plt.title('Estimated Line')\n",
    "plt.legend()\n",
    "plt.show()"
   ]
  },
  {
   "cell_type": "markdown",
   "id": "e3f5cf77-4fa3-4161-8337-dd23845594c0",
   "metadata": {},
   "source": [
    "As we can see it here The SVR has a better estimated line than the linear regression with a r2 score of 0.9913231277761603."
   ]
  },
  {
   "cell_type": "markdown",
   "id": "f6b532ec-2ca4-48a6-a16b-ac05ec3f672c",
   "metadata": {
    "tags": []
   },
   "source": [
    "# Random Forest"
   ]
  },
  {
   "cell_type": "code",
   "execution_count": 142,
   "id": "521e20b4-99fa-4b65-aad2-045bddcde739",
   "metadata": {},
   "outputs": [],
   "source": [
    "from sklearn.ensemble import RandomForestRegressor"
   ]
  },
  {
   "cell_type": "code",
   "execution_count": 143,
   "id": "fed5e245-ba92-4d85-b862-1eef0b9ef9e9",
   "metadata": {},
   "outputs": [],
   "source": [
    "X = np.array(df['ID']).reshape(-1, 1)\n",
    "y = np.array(df['Toplam Vaka Sayısı']).reshape(-1,1)"
   ]
  },
  {
   "cell_type": "code",
   "execution_count": 144,
   "id": "3def8ba8-ff32-4466-ac13-5a7a24e0c08a",
   "metadata": {},
   "outputs": [],
   "source": [
    "X_train, X_test, y_train, y_test = train_test_split(X, y, test_size=0.3, random_state=0, shuffle=False)"
   ]
  },
  {
   "cell_type": "code",
   "execution_count": 145,
   "id": "97e1f487-4ecb-4f7c-9ff5-43ea267657ae",
   "metadata": {},
   "outputs": [],
   "source": [
    "random_forest = RandomForestRegressor(n_estimators = 10, random_state=0)"
   ]
  },
  {
   "cell_type": "code",
   "execution_count": 146,
   "id": "e94636bd-94f3-48ab-881d-0fb0271dd364",
   "metadata": {},
   "outputs": [
    {
     "data": {
      "text/plain": [
       "RandomForestRegressor(n_estimators=10, random_state=0)"
      ]
     },
     "execution_count": 146,
     "metadata": {},
     "output_type": "execute_result"
    }
   ],
   "source": [
    "random_forest.fit(X_train, y_train.reshape(-1,))"
   ]
  },
  {
   "cell_type": "code",
   "execution_count": 147,
   "id": "614eb851-e9ed-4aac-884c-7b5cbee857ff",
   "metadata": {},
   "outputs": [],
   "source": [
    "pred = random_forest.predict(X_train)\n",
    "y_pred = random_forest.predict(X_test)"
   ]
  },
  {
   "cell_type": "code",
   "execution_count": 85,
   "id": "445aa844-5703-4484-a594-a86a174b1b68",
   "metadata": {},
   "outputs": [
    {
     "data": {
      "text/plain": [
       "array([6620700., 6620700., 6620700., 6620700., 6620700., 6620700.,\n",
       "       6620700., 6620700., 6620700., 6620700., 6620700., 6620700.,\n",
       "       6620700., 6620700., 6620700., 6620700., 6620700., 6620700.,\n",
       "       6620700., 6620700., 6620700., 6620700., 6620700., 6620700.,\n",
       "       6620700., 6620700., 6620700., 6620700., 6620700., 6620700.,\n",
       "       6620700., 6620700., 6620700., 6620700., 6620700., 6620700.,\n",
       "       6620700., 6620700., 6620700., 6620700., 6620700., 6620700.,\n",
       "       6620700., 6620700., 6620700., 6620700., 6620700., 6620700.,\n",
       "       6620700., 6620700., 6620700., 6620700., 6620700., 6620700.,\n",
       "       6620700., 6620700., 6620700., 6620700., 6620700., 6620700.,\n",
       "       6620700., 6620700., 6620700., 6620700., 6620700., 6620700.,\n",
       "       6620700., 6620700., 6620700., 6620700., 6620700., 6620700.,\n",
       "       6620700., 6620700., 6620700., 6620700., 6620700., 6620700.,\n",
       "       6620700., 6620700., 6620700., 6620700., 6620700., 6620700.,\n",
       "       6620700., 6620700., 6620700., 6620700., 6620700., 6620700.,\n",
       "       6620700., 6620700., 6620700., 6620700., 6620700., 6620700.,\n",
       "       6620700., 6620700., 6620700., 6620700., 6620700., 6620700.,\n",
       "       6620700., 6620700., 6620700., 6620700., 6620700., 6620700.,\n",
       "       6620700., 6620700., 6620700., 6620700., 6620700., 6620700.,\n",
       "       6620700., 6620700., 6620700., 6620700., 6620700., 6620700.,\n",
       "       6620700.])"
      ]
     },
     "execution_count": 85,
     "metadata": {},
     "output_type": "execute_result"
    }
   ],
   "source": [
    "y_pred"
   ]
  },
  {
   "cell_type": "code",
   "execution_count": 150,
   "id": "b68acc18-a009-4867-84a3-bf9ce821737a",
   "metadata": {},
   "outputs": [],
   "source": []
  },
  {
   "cell_type": "code",
   "execution_count": 151,
   "id": "bcb5a614-8425-4cea-b907-a61bc81a3b14",
   "metadata": {},
   "outputs": [
    {
     "data": {
      "text/plain": [
       "[array([6620700.]),\n",
       " array([6620700.]),\n",
       " array([6620700.]),\n",
       " array([6620700.]),\n",
       " array([6620700.]),\n",
       " array([6620700.]),\n",
       " array([6620700.]),\n",
       " array([6620700.]),\n",
       " array([6620700.]),\n",
       " array([6620700.]),\n",
       " array([6620700.]),\n",
       " array([6620700.]),\n",
       " array([6620700.]),\n",
       " array([6620700.]),\n",
       " array([6620700.]),\n",
       " array([6620700.]),\n",
       " array([6620700.]),\n",
       " array([6620700.]),\n",
       " array([6620700.]),\n",
       " array([6620700.]),\n",
       " array([6620700.]),\n",
       " array([6620700.]),\n",
       " array([6620700.]),\n",
       " array([6620700.]),\n",
       " array([6620700.]),\n",
       " array([6620700.]),\n",
       " array([6620700.]),\n",
       " array([6620700.]),\n",
       " array([6620700.]),\n",
       " array([6620700.]),\n",
       " array([6620700.]),\n",
       " array([6620700.]),\n",
       " array([6620700.]),\n",
       " array([6620700.]),\n",
       " array([6620700.]),\n",
       " array([6620700.]),\n",
       " array([6620700.]),\n",
       " array([6620700.]),\n",
       " array([6620700.]),\n",
       " array([6620700.]),\n",
       " array([6620700.]),\n",
       " array([6620700.]),\n",
       " array([6620700.]),\n",
       " array([6620700.]),\n",
       " array([6620700.]),\n",
       " array([6620700.]),\n",
       " array([6620700.]),\n",
       " array([6620700.]),\n",
       " array([6620700.]),\n",
       " array([6620700.]),\n",
       " array([6620700.]),\n",
       " array([6620700.]),\n",
       " array([6620700.]),\n",
       " array([6620700.]),\n",
       " array([6620700.]),\n",
       " array([6620700.]),\n",
       " array([6620700.]),\n",
       " array([6620700.]),\n",
       " array([6620700.]),\n",
       " array([6620700.]),\n",
       " array([6620700.]),\n",
       " array([6620700.]),\n",
       " array([6620700.]),\n",
       " array([6620700.]),\n",
       " array([6620700.]),\n",
       " array([6620700.]),\n",
       " array([6620700.]),\n",
       " array([6620700.]),\n",
       " array([6620700.]),\n",
       " array([6620700.]),\n",
       " array([6620700.]),\n",
       " array([6620700.]),\n",
       " array([6620700.]),\n",
       " array([6620700.]),\n",
       " array([6620700.]),\n",
       " array([6620700.]),\n",
       " array([6620700.]),\n",
       " array([6620700.]),\n",
       " array([6620700.]),\n",
       " array([6620700.]),\n",
       " array([6620700.]),\n",
       " array([6620700.]),\n",
       " array([6620700.]),\n",
       " array([6620700.]),\n",
       " array([6620700.]),\n",
       " array([6620700.]),\n",
       " array([6620700.]),\n",
       " array([6620700.]),\n",
       " array([6620700.]),\n",
       " array([6620700.]),\n",
       " array([6620700.]),\n",
       " array([6620700.]),\n",
       " array([6620700.]),\n",
       " array([6620700.]),\n",
       " array([6620700.]),\n",
       " array([6620700.]),\n",
       " array([6620700.]),\n",
       " array([6620700.]),\n",
       " array([6620700.]),\n",
       " array([6620700.]),\n",
       " array([6620700.]),\n",
       " array([6620700.]),\n",
       " array([6620700.]),\n",
       " array([6620700.]),\n",
       " array([6620700.]),\n",
       " array([6620700.]),\n",
       " array([6620700.]),\n",
       " array([6620700.]),\n",
       " array([6620700.]),\n",
       " array([6620700.]),\n",
       " array([6620700.]),\n",
       " array([6620700.]),\n",
       " array([6620700.]),\n",
       " array([6620700.]),\n",
       " array([6620700.]),\n",
       " array([6620700.]),\n",
       " array([6620700.]),\n",
       " array([6620700.]),\n",
       " array([6620700.]),\n",
       " array([6620700.]),\n",
       " array([6620700.])]"
      ]
     },
     "execution_count": 151,
     "metadata": {},
     "output_type": "execute_result"
    }
   ],
   "source": [
    "y_pred"
   ]
  },
  {
   "cell_type": "code",
   "execution_count": 86,
   "id": "1c644cb8-a553-4b37-bb9b-1ea80e71cc90",
   "metadata": {},
   "outputs": [
    {
     "data": {
      "text/plain": [
       "-3.2122362621750167"
      ]
     },
     "execution_count": 86,
     "metadata": {},
     "output_type": "execute_result"
    }
   ],
   "source": [
    "r2_score(y_test, y_pred)"
   ]
  },
  {
   "cell_type": "code",
   "execution_count": 87,
   "id": "e0fae3b0-2722-4948-a5ee-f04f3897ddb3",
   "metadata": {},
   "outputs": [
    {
     "data": {
      "image/png": "[encoded data removed]",
      "text/plain": [
       "<Figure size 432x288 with 1 Axes>"
      ]
     },
     "metadata": {
      "needs_background": "light"
     },
     "output_type": "display_data"
    }
   ],
   "source": [
    "plt.plot(X, y.reshape(-1,), '.')\n",
    "plt.plot(X_train, pred, label='train')\n",
    "plt.plot(X_test, y_pred, label='test')\n",
    "#plt.scatter(X_train, y_train.reshape(-1,), color = 'red')\n",
    "#plt.plot(X_train, y_pred, color = 'blue')  \n",
    "plt.ticklabel_format(style = 'plain')\n",
    "plt.title('Estimated Line (Random Forest Regression)')\n",
    "plt.legend()\n",
    "plt.show()"
   ]
  },
  {
   "cell_type": "markdown",
   "id": "3793825b-d6bc-4b14-9ee2-09255d774039",
   "metadata": {},
   "source": [
    "With a r2 score of 0.999881941991274 Random Forest Regressor surpasses the Support Vector Machine and Linear Regression."
   ]
  },
  {
   "cell_type": "markdown",
   "id": "a9f04e73-8a0b-446d-b8fb-6585cf038999",
   "metadata": {
    "tags": []
   },
   "source": [
    "# Gradient Boosting Regression"
   ]
  },
  {
   "cell_type": "code",
   "execution_count": 88,
   "id": "e2af3fb5-662c-4732-8e65-385a3e0e1404",
   "metadata": {},
   "outputs": [],
   "source": [
    "from sklearn.ensemble import GradientBoostingRegressor"
   ]
  },
  {
   "cell_type": "code",
   "execution_count": 89,
   "id": "cabc9790-a56a-4270-a28e-8f3a2126e5fe",
   "metadata": {},
   "outputs": [],
   "source": [
    "X = np.array(df['ID']).reshape(-1, 1)\n",
    "y = np.array(df['Toplam Vaka Sayısı']).reshape(-1,1)"
   ]
  },
  {
   "cell_type": "code",
   "execution_count": 90,
   "id": "1100dfe8-b6e2-443c-8196-fd6e986fefee",
   "metadata": {},
   "outputs": [],
   "source": [
    "X_train, X_test, y_train, y_test = train_test_split(X, y, test_size=0.3, random_state=0, shuffle=False)"
   ]
  },
  {
   "cell_type": "code",
   "execution_count": 91,
   "id": "03686cd4-a41e-429b-9e1b-c85ae225aa87",
   "metadata": {},
   "outputs": [],
   "source": [
    "gradient_boosting = GradientBoostingRegressor(random_state=0)"
   ]
  },
  {
   "cell_type": "code",
   "execution_count": 92,
   "id": "5e6baca2-f9c7-4f6a-b160-d10e5757e824",
   "metadata": {},
   "outputs": [
    {
     "data": {
      "text/plain": [
       "GradientBoostingRegressor(random_state=0)"
      ]
     },
     "execution_count": 92,
     "metadata": {},
     "output_type": "execute_result"
    }
   ],
   "source": [
    "gradient_boosting.fit(X_train, y_train.reshape(-1,))"
   ]
  },
  {
   "cell_type": "code",
   "execution_count": 93,
   "id": "3124184c-4e6b-47ae-912a-4910dbe25a5f",
   "metadata": {},
   "outputs": [
    {
     "data": {
      "text/plain": [
       "array([6626722.38710276, 6626722.38710276, 6626722.38710276,\n",
       "       6626722.38710276, 6626722.38710276, 6626722.38710276,\n",
       "       6626722.38710276, 6626722.38710276, 6626722.38710276,\n",
       "       6626722.38710276, 6626722.38710276, 6626722.38710276,\n",
       "       6626722.38710276, 6626722.38710276, 6626722.38710276,\n",
       "       6626722.38710276, 6626722.38710276, 6626722.38710276,\n",
       "       6626722.38710276, 6626722.38710276, 6626722.38710276,\n",
       "       6626722.38710276, 6626722.38710276, 6626722.38710276,\n",
       "       6626722.38710276, 6626722.38710276, 6626722.38710276,\n",
       "       6626722.38710276, 6626722.38710276, 6626722.38710276,\n",
       "       6626722.38710276, 6626722.38710276, 6626722.38710276,\n",
       "       6626722.38710276, 6626722.38710276, 6626722.38710276,\n",
       "       6626722.38710276, 6626722.38710276, 6626722.38710276,\n",
       "       6626722.38710276, 6626722.38710276, 6626722.38710276,\n",
       "       6626722.38710276, 6626722.38710276, 6626722.38710276,\n",
       "       6626722.38710276, 6626722.38710276, 6626722.38710276,\n",
       "       6626722.38710276, 6626722.38710276, 6626722.38710276,\n",
       "       6626722.38710276, 6626722.38710276, 6626722.38710276,\n",
       "       6626722.38710276, 6626722.38710276, 6626722.38710276,\n",
       "       6626722.38710276, 6626722.38710276, 6626722.38710276,\n",
       "       6626722.38710276, 6626722.38710276, 6626722.38710276,\n",
       "       6626722.38710276, 6626722.38710276, 6626722.38710276,\n",
       "       6626722.38710276, 6626722.38710276, 6626722.38710276,\n",
       "       6626722.38710276, 6626722.38710276, 6626722.38710276,\n",
       "       6626722.38710276, 6626722.38710276, 6626722.38710276,\n",
       "       6626722.38710276, 6626722.38710276, 6626722.38710276,\n",
       "       6626722.38710276, 6626722.38710276, 6626722.38710276,\n",
       "       6626722.38710276, 6626722.38710276, 6626722.38710276,\n",
       "       6626722.38710276, 6626722.38710276, 6626722.38710276,\n",
       "       6626722.38710276, 6626722.38710276, 6626722.38710276,\n",
       "       6626722.38710276, 6626722.38710276, 6626722.38710276,\n",
       "       6626722.38710276, 6626722.38710276, 6626722.38710276,\n",
       "       6626722.38710276, 6626722.38710276, 6626722.38710276,\n",
       "       6626722.38710276, 6626722.38710276, 6626722.38710276,\n",
       "       6626722.38710276, 6626722.38710276, 6626722.38710276,\n",
       "       6626722.38710276, 6626722.38710276, 6626722.38710276,\n",
       "       6626722.38710276, 6626722.38710276, 6626722.38710276,\n",
       "       6626722.38710276, 6626722.38710276, 6626722.38710276,\n",
       "       6626722.38710276, 6626722.38710276, 6626722.38710276,\n",
       "       6626722.38710276, 6626722.38710276, 6626722.38710276,\n",
       "       6626722.38710276])"
      ]
     },
     "execution_count": 93,
     "metadata": {},
     "output_type": "execute_result"
    }
   ],
   "source": [
    "y_pred = gradient_boosting.predict(X_test)\n",
    "y_pred"
   ]
  },
  {
   "cell_type": "code",
   "execution_count": 94,
   "id": "d7e2f9f9-9cac-4d0d-b61e-8c6d7ed13b36",
   "metadata": {},
   "outputs": [
    {
     "data": {
      "image/png": "[encoded data removed]",
      "text/plain": [
       "<Figure size 432x288 with 1 Axes>"
      ]
     },
     "metadata": {
      "needs_background": "light"
     },
     "output_type": "display_data"
    }
   ],
   "source": [
    "pred = gradient_boosting.predict(X_train)\n",
    "plt.plot(X, y.reshape(-1,), '.')\n",
    "plt.plot(X_train, pred, label='train')\n",
    "plt.plot(X_test, y_pred, label='test')\n",
    "#plt.scatter(X_train, y_train.reshape(-1,), color = 'red')\n",
    "#plt.plot(X_train, y_pred, color = 'blue')  \n",
    "plt.ticklabel_format(style = 'plain')\n",
    "plt.title('Estimated Line (Gradient Boosting Regression)')\n",
    "plt.legend()\n",
    "plt.show()"
   ]
  },
  {
   "cell_type": "code",
   "execution_count": 95,
   "id": "495d0748-c310-4dd7-9074-3139da054a8b",
   "metadata": {},
   "outputs": [
    {
     "data": {
      "text/plain": [
       "-3.1867477199390564"
      ]
     },
     "execution_count": 95,
     "metadata": {},
     "output_type": "execute_result"
    }
   ],
   "source": [
    "r2_score(y_test, y_pred)"
   ]
  },
  {
   "cell_type": "markdown",
   "id": "b15a77ff-27e1-4992-bff4-96207b29a896",
   "metadata": {},
   "source": [
    "With a r2 score of 0.999794076508534 Gradient Boosting Regression surpasses the Support Vector Machine and Linear Regression but falls behind of Random Forest Regressor."
   ]
  },
  {
   "cell_type": "markdown",
   "id": "8f2eee17-623a-4bc9-80ce-f569db416a95",
   "metadata": {
    "tags": []
   },
   "source": [
    "# XG Boost"
   ]
  },
  {
   "cell_type": "code",
   "execution_count": 152,
   "id": "1f2a57ad-c9b8-4b85-b0c7-4ce1a7f27fd3",
   "metadata": {},
   "outputs": [],
   "source": [
    "import xgboost as xg\n",
    "from sklearn.multioutput import MultiOutputRegressor"
   ]
  },
  {
   "cell_type": "code",
   "execution_count": 153,
   "id": "ec6eb560-34ac-493d-9863-eef90d271138",
   "metadata": {},
   "outputs": [],
   "source": [
    "X = np.array(df['ID']).reshape(-1, 1)\n",
    "y = np.array(df['Toplam Vaka Sayısı']).reshape(-1,1)"
   ]
  },
  {
   "cell_type": "code",
   "execution_count": 154,
   "id": "a85ca368-40b9-43cb-8ec0-c780f6084b98",
   "metadata": {},
   "outputs": [],
   "source": [
    "X_train, X_test, y_train, y_test = train_test_split(X, y, test_size=0.3, random_state=0, shuffle=False)"
   ]
  },
  {
   "cell_type": "code",
   "execution_count": 155,
   "id": "041406eb-5dfe-4972-902e-bef9cf5edde2",
   "metadata": {},
   "outputs": [],
   "source": [
    "xgboost = xg.XGBRegressor(objective='reg:squarederror', n_estimators = 1000, max_depth=7, eta=0.1, subsample=0.7)"
   ]
  },
  {
   "cell_type": "code",
   "execution_count": 156,
   "id": "6cf50def-60cf-4c67-8d19-bdcb20260028",
   "metadata": {},
   "outputs": [
    {
     "data": {
      "text/plain": [
       "XGBRegressor(base_score=0.5, booster='gbtree', colsample_bylevel=1,\n",
       "             colsample_bynode=1, colsample_bytree=1, enable_categorical=False,\n",
       "             eta=0.1, gamma=0, gpu_id=-1, importance_type=None,\n",
       "             interaction_constraints='', learning_rate=0.100000001,\n",
       "             max_delta_step=0, max_depth=7, min_child_weight=1, missing=nan,\n",
       "             monotone_constraints='()', n_estimators=1000, n_jobs=16,\n",
       "             num_parallel_tree=1, predictor='auto', random_state=0, reg_alpha=0,\n",
       "             reg_lambda=1, scale_pos_weight=1, subsample=0.7,\n",
       "             tree_method='exact', validate_parameters=1, verbosity=None)"
      ]
     },
     "execution_count": 156,
     "metadata": {},
     "output_type": "execute_result"
    }
   ],
   "source": [
    "xgboost.fit(X_train, y_train)"
   ]
  },
  {
   "cell_type": "code",
   "execution_count": 157,
   "id": "1d0f03bf-27f1-4d23-99c4-92df5c6d9ed6",
   "metadata": {},
   "outputs": [
    {
     "data": {
      "text/plain": [
       "array([6629134., 6629134., 6629134., 6629134., 6629134., 6629134.,\n",
       "       6629134., 6629134., 6629134., 6629134., 6629134., 6629134.,\n",
       "       6629134., 6629134., 6629134., 6629134., 6629134., 6629134.,\n",
       "       6629134., 6629134., 6629134., 6629134., 6629134., 6629134.,\n",
       "       6629134., 6629134., 6629134., 6629134., 6629134., 6629134.,\n",
       "       6629134., 6629134., 6629134., 6629134., 6629134., 6629134.,\n",
       "       6629134., 6629134., 6629134., 6629134., 6629134., 6629134.,\n",
       "       6629134., 6629134., 6629134., 6629134., 6629134., 6629134.,\n",
       "       6629134., 6629134., 6629134., 6629134., 6629134., 6629134.,\n",
       "       6629134., 6629134., 6629134., 6629134., 6629134., 6629134.,\n",
       "       6629134., 6629134., 6629134., 6629134., 6629134., 6629134.,\n",
       "       6629134., 6629134., 6629134., 6629134., 6629134., 6629134.,\n",
       "       6629134., 6629134., 6629134., 6629134., 6629134., 6629134.,\n",
       "       6629134., 6629134., 6629134., 6629134., 6629134., 6629134.,\n",
       "       6629134., 6629134., 6629134., 6629134., 6629134., 6629134.,\n",
       "       6629134., 6629134., 6629134., 6629134., 6629134., 6629134.,\n",
       "       6629134., 6629134., 6629134., 6629134., 6629134., 6629134.,\n",
       "       6629134., 6629134., 6629134., 6629134., 6629134., 6629134.,\n",
       "       6629134., 6629134., 6629134., 6629134., 6629134., 6629134.,\n",
       "       6629134., 6629134., 6629134., 6629134., 6629134., 6629134.,\n",
       "       6629134.], dtype=float32)"
      ]
     },
     "execution_count": 157,
     "metadata": {},
     "output_type": "execute_result"
    }
   ],
   "source": [
    "y_pred = xgboost.predict(X_test)\n",
    "y_pred"
   ]
  },
  {
   "cell_type": "code",
   "execution_count": 135,
   "id": "3aa15302-8df3-4554-be44-99178244be8d",
   "metadata": {},
   "outputs": [
    {
     "data": {
      "image/png": "[encoded data removed]",
      "text/plain": [
       "<Figure size 432x288 with 1 Axes>"
      ]
     },
     "metadata": {
      "needs_background": "light"
     },
     "output_type": "display_data"
    }
   ],
   "source": [
    "pred = xgboost.predict(X_train)\n",
    "plt.plot(X, y.reshape(-1,), '.')\n",
    "plt.plot(X_train, pred, label='train')\n",
    "plt.plot(X_test, y_pred, label='test')\n",
    "#plt.scatter(X_train, y_train.reshape(-1,), color = 'red')\n",
    "#plt.plot(X_train, y_pred, color = 'blue')  \n",
    "plt.ticklabel_format(style = 'plain')\n",
    "plt.title('Estimated Line (Gradient Boosting Regression)')\n",
    "plt.legend()\n",
    "plt.show()"
   ]
  },
  {
   "cell_type": "code",
   "execution_count": 103,
   "id": "ce6b7ffa-d1aa-4e40-bb21-f96f2b3ad50b",
   "metadata": {},
   "outputs": [
    {
     "data": {
      "text/plain": [
       "-5.246467556118023"
      ]
     },
     "execution_count": 103,
     "metadata": {},
     "output_type": "execute_result"
    }
   ],
   "source": [
    "r2_score(y_test, y_pred)"
   ]
  },
  {
   "cell_type": "markdown",
   "id": "fbddde09-63e5-4ee3-ba5d-e5a23a67d957",
   "metadata": {},
   "source": [
    "With a r2 score of 0.9901100998364135 XG Boost falls behind of Gradient Boosting Regression, Random Forest Regressor and SVR but surpasses the Linear Regression."
   ]
  },
  {
   "cell_type": "markdown",
   "id": "7f871233-b6d2-4abc-81e5-e941cc745134",
   "metadata": {
    "tags": []
   },
   "source": [
    "# RANSAC Regressor"
   ]
  },
  {
   "cell_type": "code",
   "execution_count": 112,
   "id": "346b6c75-3e5b-414b-ac22-eaa86a78d7dd",
   "metadata": {},
   "outputs": [],
   "source": [
    "from sklearn.linear_model import RANSACRegressor"
   ]
  },
  {
   "cell_type": "code",
   "execution_count": 113,
   "id": "c2901651-8bd0-48ab-aaf1-75e2ea29100f",
   "metadata": {},
   "outputs": [],
   "source": [
    "X = np.array(df['ID']).reshape(-1, 1)\n",
    "y = np.array(df['Toplam Vaka Sayısı']).reshape(-1,1)"
   ]
  },
  {
   "cell_type": "code",
   "execution_count": 114,
   "id": "dfb4f20c-ceb6-4484-8078-0893639f865e",
   "metadata": {},
   "outputs": [],
   "source": [
    "X_train, X_test, y_train, y_test = train_test_split(X, y, test_size=0.3, random_state=0, shuffle=False)"
   ]
  },
  {
   "cell_type": "code",
   "execution_count": 115,
   "id": "4db4d607-4a54-44bf-978f-faff0ce6b2fa",
   "metadata": {},
   "outputs": [],
   "source": [
    "reg = RANSACRegressor(random_state=0).fit(X_train, y_train)"
   ]
  },
  {
   "cell_type": "code",
   "execution_count": 116,
   "id": "eaf764e9-a913-4d66-ad6f-bb05b3759b4a",
   "metadata": {},
   "outputs": [],
   "source": [
    "y_pred = reg.predict(X_test)"
   ]
  },
  {
   "cell_type": "code",
   "execution_count": 117,
   "id": "f271ed38-c7f1-4b90-b609-252347e0d5f3",
   "metadata": {},
   "outputs": [
    {
     "data": {
      "image/png": "[encoded data removed]",
      "text/plain": [
       "<Figure size 432x288 with 1 Axes>"
      ]
     },
     "metadata": {
      "needs_background": "light"
     },
     "output_type": "display_data"
    }
   ],
   "source": [
    "pred = reg.predict(X_train)\n",
    "plt.plot(X, y.reshape(-1,), '.')\n",
    "plt.plot(X_train, pred, label='train')\n",
    "plt.plot(X_test, y_pred, label='test')\n",
    "plt.ticklabel_format(style = 'plain')\n",
    "plt.title('Estimated Line (Gradient Boosting Regression)')\n",
    "plt.legend()\n",
    "plt.show()"
   ]
  },
  {
   "cell_type": "code",
   "execution_count": 118,
   "id": "441b4dad-02e6-4b80-ab56-0c7d173aedc8",
   "metadata": {},
   "outputs": [
    {
     "data": {
      "text/plain": [
       "0.8227409238204726"
      ]
     },
     "execution_count": 118,
     "metadata": {},
     "output_type": "execute_result"
    }
   ],
   "source": [
    "r2_score(y_test, y_pred)"
   ]
  },
  {
   "cell_type": "markdown",
   "id": "ec9b0f5b-9c55-46af-b4b9-ef9c128a52b8",
   "metadata": {},
   "source": [
    "With a r2 score of 0.9799774956121751 RANSAC Regressor takes its place above XG Boost, Gaussian, Linear Regressions."
   ]
  },
  {
   "cell_type": "code",
   "execution_count": null,
   "id": "7608b801-9a62-4567-9949-0af81eb83e30",
   "metadata": {},
   "outputs": [],
   "source": []
  }
 ],
 "metadata": {
  "kernelspec": {
   "display_name": "Python 3 (ipykernel)",
   "language": "python",
   "name": "python3"
  },
  "language_info": {
   "codemirror_mode": {
    "name": "ipython",
    "version": 3
   },
   "file_extension": ".py",
   "mimetype": "text/x-python",
   "name": "python",
   "nbconvert_exporter": "python",
   "pygments_lexer": "ipython3",
   "version": "3.9.7"
  }
 },
 "nbformat": 4,
 "nbformat_minor": 5
}
